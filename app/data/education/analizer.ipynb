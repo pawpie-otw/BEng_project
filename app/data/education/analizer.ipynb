{
 "cells": [
  {
   "cell_type": "code",
   "execution_count": 1,
   "metadata": {},
   "outputs": [],
   "source": [
    "import pandas as pd"
   ]
  },
  {
   "cell_type": "code",
   "execution_count": 3,
   "metadata": {},
   "outputs": [],
   "source": [
    "files = [\"female_languages_by_age.xlsx\",\n",
    "    \"female_languages_education.xlsx\",\n",
    "    \"male_languages_by_age.xlsx\",\n",
    "    \"male_languages_education.xlsx\"]\n",
    "indexes = [\"age\", \"edu_level\",  \"age\", \"edu_level\"]\n",
    "opened_files = [pd.read_excel(file, index_col = index)\n",
    "                for file, index in zip(files, indexes)]"
   ]
  },
  {
   "cell_type": "code",
   "execution_count": 8,
   "metadata": {},
   "outputs": [],
   "source": [
    "without_total = [df[df.columns[1:]]\n",
    "    for df in opened_files]"
   ]
  },
  {
   "cell_type": "code",
   "execution_count": 10,
   "metadata": {},
   "outputs": [],
   "source": [
    "for file, file_name in zip(without_total, files):\n",
    "    file.to_excel(file_name)"
   ]
  },
  {
   "cell_type": "code",
   "execution_count": null,
   "metadata": {},
   "outputs": [],
   "source": []
  }
 ],
 "metadata": {
  "interpreter": {
   "hash": "723b7555bb72ca7a1ecea98630b365ab91a32d8126086f548ea4905f6fc69528"
  },
  "kernelspec": {
   "display_name": "Python 3.9.7 64-bit ('.env': venv)",
   "language": "python",
   "name": "python3"
  },
  "language_info": {
   "codemirror_mode": {
    "name": "ipython",
    "version": 3
   },
   "file_extension": ".py",
   "mimetype": "text/x-python",
   "name": "python",
   "nbconvert_exporter": "python",
   "pygments_lexer": "ipython3",
   "version": "3.9.7"
  },
  "orig_nbformat": 4
 },
 "nbformat": 4,
 "nbformat_minor": 2
}
