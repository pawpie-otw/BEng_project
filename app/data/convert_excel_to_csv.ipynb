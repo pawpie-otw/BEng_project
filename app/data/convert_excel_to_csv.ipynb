{
 "cells": [
  {
   "cell_type": "code",
   "execution_count": 1,
   "metadata": {},
   "outputs": [],
   "source": [
    "import pandas as pd\n",
    "import os"
   ]
  },
  {
   "cell_type": "code",
   "execution_count": 17,
   "metadata": {},
   "outputs": [],
   "source": [
    "dirs_to_check = [dir for dir in os.listdir(os.getcwd())\n",
    " if os.path.isdir(dir)]"
   ]
  },
  {
   "cell_type": "code",
   "execution_count": 25,
   "metadata": {},
   "outputs": [
    {
     "data": {
      "text/plain": [
       "['areas', 'athletes', 'education', 'people']"
      ]
     },
     "execution_count": 25,
     "metadata": {},
     "output_type": "execute_result"
    }
   ],
   "source": [
    "dirs_to_check"
   ]
  },
  {
   "cell_type": "code",
   "execution_count": 31,
   "metadata": {},
   "outputs": [
    {
     "name": "stdout",
     "output_type": "stream",
     "text": [
      "folder areas\n",
      "folder athletes\n",
      "folder education\n",
      "folder people\n"
     ]
    }
   ],
   "source": [
    "for dir_name in dirs_to_check:\n",
    "    print(\"folder\", dir_name)\n",
    "    x = os.walk(\"./\"+dir_name)\n",
    "    current_files = next(x)[2]\n",
    "    for file in current_files:\n",
    "        \n",
    "        file_name, ext = file.split(\".\")\n",
    "        \n",
    "        if ext==\"xlsx\":\n",
    "            df = pd.read_excel(f\"./{dir_name}/{file}\")\n",
    "            df.to_csv(f\"./{dir_name}/{file_name}.csv\", index=False)\n",
    "            os.remove(f\"./{dir_name}/{file_name}.xlsx\")"
   ]
  },
  {
   "cell_type": "code",
   "execution_count": 18,
   "metadata": {},
   "outputs": [
    {
     "name": "stdout",
     "output_type": "stream",
     "text": [
      "('./', ['areas', 'athletes', 'education', 'people'], ['convert_excel_to_csv.ipynb'])\n",
      "('./areas', ['__pycache__'], ['areas_const.py', 'post_codes.json', 'voivodeship_females_by_sexage.csv', 'voivodeship_males_by_sexage.csv'])\n",
      "('./areas\\\\__pycache__', [], ['areas_const.cpython-39.pyc'])\n",
      "('./athletes', [], ['2020_gry_zespolowe.xlsx', '2020_pozostale.xlsx', '2020_spoty_walki.xlsx', '2020_spoty_wodne.xlsx', '2020_spoty_zimowe.xlsx', 'all_sports.csv', 'analysis.ipynb', 'athletes_chance.csv', 'provinces.csv', 'sportstatus_chance.csv', 'sports_per_voivodship.csv', 'voivodship_sport_group.ipynb'])\n",
      "('./education', ['__pycache__'], ['analizer.ipynb', 'education_data.py', 'female_languages_by_age.xlsx', 'female_languages_education.xlsx', 'male_languages_by_age.xlsx', 'male_languages_education.xlsx'])\n",
      "('./education\\\\__pycache__', [], ['education_data.cpython-39.pyc'])\n",
      "('./people', ['__pycache__'], ['age_data.json', 'chance.py', 'first_name_female_living_10k.csv', 'first_name_male_living_10k.csv', 'last_name_female_living_2020_10k.csv', 'last_name_male_living_10k.csv', 'population.py', 'test.ipynb', 'test.json'])\n",
      "('./people\\\\__pycache__', [], ['population.cpython-39.pyc'])\n"
     ]
    }
   ],
   "source": [
    "for i in os.walk(\"./\"):\n",
    "    print(i)"
   ]
  },
  {
   "cell_type": "code",
   "execution_count": null,
   "metadata": {},
   "outputs": [],
   "source": []
  }
 ],
 "metadata": {
  "interpreter": {
   "hash": "8840cdac29f3c75b6e43709a3306512128466e09d12aee7ee7beb6d9c7260ebd"
  },
  "kernelspec": {
   "display_name": "Python 3.9.7 64-bit",
   "language": "python",
   "name": "python3"
  },
  "language_info": {
   "codemirror_mode": {
    "name": "ipython",
    "version": 3
   },
   "file_extension": ".py",
   "mimetype": "text/x-python",
   "name": "python",
   "nbconvert_exporter": "python",
   "pygments_lexer": "ipython3",
   "version": "3.9.7"
  },
  "orig_nbformat": 4
 },
 "nbformat": 4,
 "nbformat_minor": 2
}
