{
 "cells": [
  {
   "cell_type": "code",
   "execution_count": 35,
   "metadata": {},
   "outputs": [],
   "source": [
    "import pandas as pd"
   ]
  },
  {
   "cell_type": "code",
   "execution_count": 36,
   "metadata": {},
   "outputs": [],
   "source": [
    "excel_name = \"data/voivodships_pop_by_age_sex.xls\"\n",
    "sheet_list = pd.ExcelFile(excel_name).sheet_names\n",
    "df_dict = {sheet:pd.read_excel(excel_name, sheet_name=sheet)\n",
    "    for sheet in sheet_list}\n"
   ]
  },
  {
   "cell_type": "code",
   "execution_count": null,
   "metadata": {},
   "outputs": [],
   "source": [
    "from copy import deepcopy\n",
    "\n",
    "df_dict_copy = deepcopy(df_dict)\n",
    "lost_row = [df_dict_copy[sheet].iloc[110, 1:4].to_list()\n",
    "            for sheet in sheet_list]\n",
    "del df_dict_copy"
   ]
  },
  {
   "cell_type": "code",
   "execution_count": null,
   "metadata": {},
   "outputs": [],
   "source": [
    "full_list = list(range(0,102))\n",
    "del full_list[5:102:6]\n",
    "\n",
    "\n",
    "for i, voivodship in enumerate(df_dict):\n",
    "    df_dict[voivodship] = df_dict[voivodship].iloc[9:114, 1:4]\n",
    "    df_dict[voivodship] = df_dict[voivodship].iloc[full_list]\n",
    "    df_dict[voivodship].reset_index(drop=True, inplace = True)\n",
    "    df_dict[voivodship].columns = [\"total\",\"males\",\"females\"]\n",
    "    df_dict[voivodship].loc[len(df_dict[voivodship])] = lost_row[i]"
   ]
  },
  {
   "cell_type": "code",
   "execution_count": null,
   "metadata": {},
   "outputs": [],
   "source": [
    "\n",
    "\n",
    "df_males = pd.DataFrame({voivodship.upper(): df_dict[voivodship][\"males\"]\n",
    "                            for voivodship in df_dict})\n",
    "df_females = pd.DataFrame({voivodship.upper(): df_dict[voivodship][\"females\"]\n",
    "                            for voivodship in df_dict})"
   ]
  },
  {
   "cell_type": "code",
   "execution_count": null,
   "metadata": {},
   "outputs": [],
   "source": [
    "df_males.to_csv(\"../app/data/voivodship_males_by_sexage.csv\")\n",
    "df_females.to_csv(\"../app/data/voivodship_females_by_sexage.csv\")"
   ]
  },
  {
   "cell_type": "code",
   "execution_count": null,
   "metadata": {},
   "outputs": [],
   "source": []
  }
 ],
 "metadata": {
  "interpreter": {
   "hash": "04c26ea521bc9ff243e398505869bbad83da07455f0240e198b5c7532d7e8c7c"
  },
  "kernelspec": {
   "display_name": "Python 3.9.7 64-bit",
   "language": "python",
   "name": "python3"
  },
  "language_info": {
   "codemirror_mode": {
    "name": "ipython",
    "version": 3
   },
   "file_extension": ".py",
   "mimetype": "text/x-python",
   "name": "python",
   "nbconvert_exporter": "python",
   "pygments_lexer": "ipython3",
   "version": "3.9.7"
  },
  "orig_nbformat": 4
 },
 "nbformat": 4,
 "nbformat_minor": 2
}
