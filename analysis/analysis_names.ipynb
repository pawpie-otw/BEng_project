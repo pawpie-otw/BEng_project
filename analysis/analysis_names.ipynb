{
 "cells": [
  {
   "cell_type": "code",
   "execution_count": 2,
   "metadata": {},
   "outputs": [],
   "source": [
    "import pandas as pd\n",
    "import numpy as np"
   ]
  },
  {
   "cell_type": "code",
   "execution_count": 3,
   "metadata": {},
   "outputs": [],
   "source": [
    "files = (r\"data\\first_name_female_living.csv\", r\"data\\first_name_male_living.csv\",\n",
    "r\"data\\last_name_female_living_2020.csv\", r\"data\\last_name_male_living.csv\")"
   ]
  },
  {
   "cell_type": "code",
   "execution_count": 4,
   "metadata": {},
   "outputs": [],
   "source": [
    "df =[]\n",
    "for i,file in enumerate(files):\n",
    "    if i !=2:\n",
    "        df.append(pd.read_csv(file))\n",
    "    else:\n",
    "        df.append(pd.read_csv(file, sep=';'))\n"
   ]
  },
  {
   "cell_type": "code",
   "execution_count": 5,
   "metadata": {},
   "outputs": [],
   "source": [
    "del df[0][df[0].columns[1]], df[1][df[1].columns[1]]"
   ]
  },
  {
   "cell_type": "code",
   "execution_count": 6,
   "metadata": {},
   "outputs": [],
   "source": [
    "import sys"
   ]
  },
  {
   "cell_type": "code",
   "execution_count": 7,
   "metadata": {},
   "outputs": [
    {
     "data": {
      "text/plain": [
       "(56, 120)"
      ]
     },
     "execution_count": 7,
     "metadata": {},
     "output_type": "execute_result"
    }
   ],
   "source": [
    "tup = tuple(df[0])\n",
    "lis = list(df[0])\n",
    "sys.getsizeof(tup), sys.getsizeof(lis)"
   ]
  },
  {
   "cell_type": "code",
   "execution_count": 8,
   "metadata": {},
   "outputs": [],
   "source": [
    "import time\n",
    "import random"
   ]
  },
  {
   "cell_type": "code",
   "execution_count": 9,
   "metadata": {},
   "outputs": [
    {
     "name": "stdout",
     "output_type": "stream",
     "text": [
      "drawing on tuple 1975845500\n",
      "drawing on list 1862969400\n"
     ]
    }
   ],
   "source": [
    "t = time.time_ns()\n",
    "for _ in range(1_000_000):\n",
    "    random.choices(tup,k=5)\n",
    "print(\"drawing on tuple\",time.time_ns()-t)\n",
    "\n",
    "t = time.time_ns()\n",
    "for _ in range(1_000_000):\n",
    "    random.choices(lis,k=5)\n",
    "print(\"drawing on list\",time.time_ns()-t)"
   ]
  },
  {
   "cell_type": "code",
   "execution_count": 12,
   "metadata": {},
   "outputs": [
    {
     "name": "stdout",
     "output_type": "stream",
     "text": [
      "\\begin{tabular}{llr}\n",
      "\\toprule\n",
      "{} & IMIĘ\\_PIERWSZE &  LICZBA\\_WYSTĄPIEŃ \\\\\n",
      "\\midrule\n",
      "0 &          ANNA &           1057416 \\\\\n",
      "1 &         MARIA &            612172 \\\\\n",
      "2 &     KATARZYNA &            608044 \\\\\n",
      "3 &    MAŁGORZATA &            583972 \\\\\n",
      "4 &     AGNIESZKA &            551161 \\\\\n",
      "5 &       BARBARA &            497422 \\\\\n",
      "6 &           EWA &            484686 \\\\\n",
      "7 &      KRYSTYNA &            435588 \\\\\n",
      "8 &     MAGDALENA &            434454 \\\\\n",
      "9 &      ELŻBIETA &            430898 \\\\\n",
      "\\bottomrule\n",
      "\\end{tabular}\n",
      "\n"
     ]
    }
   ],
   "source": [
    "print(df[0].head(10).to_latex())"
   ]
  },
  {
   "cell_type": "code",
   "execution_count": 11,
   "metadata": {},
   "outputs": [],
   "source": [
    "# for d,f  in zip(df, files):\n",
    "#     d.columns = ['name','amount']\n",
    "#     file_path = f.split('.')\n",
    "#     d[:10_000].to_csv(\"../app/data/\"+file_path[0].split(\"\\\\\")[1]+\"_10k.csv\", index=False)"
   ]
  },
  {
   "cell_type": "code",
   "execution_count": null,
   "metadata": {},
   "outputs": [],
   "source": []
  }
 ],
 "metadata": {
  "interpreter": {
   "hash": "0d0e999d2b70d75e4e7cc3252c3061d467e3d1c014e0e9ee674b2dc09d231c27"
  },
  "kernelspec": {
   "display_name": "Python 3.9.7 64-bit ('.env': venv)",
   "name": "python3"
  },
  "language_info": {
   "codemirror_mode": {
    "name": "ipython",
    "version": 3
   },
   "file_extension": ".py",
   "mimetype": "text/x-python",
   "name": "python",
   "nbconvert_exporter": "python",
   "pygments_lexer": "ipython3",
   "version": "3.9.7"
  },
  "orig_nbformat": 4
 },
 "nbformat": 4,
 "nbformat_minor": 2
}
