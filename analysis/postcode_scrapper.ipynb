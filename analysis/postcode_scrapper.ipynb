{
 "cells": [
  {
   "cell_type": "code",
   "execution_count": 63,
   "metadata": {},
   "outputs": [],
   "source": [
    "import pandas as pd"
   ]
  },
  {
   "cell_type": "code",
   "execution_count": 90,
   "metadata": {},
   "outputs": [],
   "source": [
    "\n",
    "page_name = [f\"https://www.kody-pocztowe.dokladnie.com/okreg{i+1}.php\"\n",
    "                for i in range(9)]\n",
    "page_name.insert(0, r\"https://www.kody-pocztowe.dokladnie.com/\")"
   ]
  },
  {
   "cell_type": "code",
   "execution_count": 100,
   "metadata": {},
   "outputs": [],
   "source": [
    "postcode_df = [pd.read_html(page)[2]\n",
    "                for page in page_name]"
   ]
  },
  {
   "cell_type": "code",
   "execution_count": 101,
   "metadata": {},
   "outputs": [],
   "source": [
    "for i in range(len(postcode_df)):\n",
    "    postcode_df[i].columns = postcode_df[i].iloc[0].str.replace(\" \",\"_\")"
   ]
  },
  {
   "cell_type": "code",
   "execution_count": 105,
   "metadata": {},
   "outputs": [
    {
     "data": {
      "text/html": [
       "<div>\n",
       "<style scoped>\n",
       "    .dataframe tbody tr th:only-of-type {\n",
       "        vertical-align: middle;\n",
       "    }\n",
       "\n",
       "    .dataframe tbody tr th {\n",
       "        vertical-align: top;\n",
       "    }\n",
       "\n",
       "    .dataframe thead th {\n",
       "        text-align: right;\n",
       "    }\n",
       "</style>\n",
       "<table border=\"1\" class=\"dataframe\">\n",
       "  <thead>\n",
       "    <tr style=\"text-align: right;\">\n",
       "      <th></th>\n",
       "      <th>KOD_POCZTOWY</th>\n",
       "      <th>ADRES</th>\n",
       "      <th>MIEJSCOWOŚĆ</th>\n",
       "      <th>WOJEWÓDZTWO</th>\n",
       "      <th>POWIAT</th>\n",
       "    </tr>\n",
       "  </thead>\n",
       "  <tbody>\n",
       "    <tr>\n",
       "      <th>0</th>\n",
       "      <td>KOD POCZTOWY</td>\n",
       "      <td>ADRES</td>\n",
       "      <td>MIEJSCOWOŚĆ</td>\n",
       "      <td>WOJEWÓDZTWO</td>\n",
       "      <td>POWIAT</td>\n",
       "    </tr>\n",
       "    <tr>\n",
       "      <th>1</th>\n",
       "      <td>00-001</td>\n",
       "      <td>Poczta Warszawa 001, ul. Świętokrzyska 31/33</td>\n",
       "      <td>Warszawa</td>\n",
       "      <td>mazowieckie</td>\n",
       "      <td>M. Warszawa</td>\n",
       "    </tr>\n",
       "    <tr>\n",
       "      <th>2</th>\n",
       "      <td>00-001</td>\n",
       "      <td>ul. Świętokrzyska 31/33</td>\n",
       "      <td>Warszawa</td>\n",
       "      <td>mazowieckie</td>\n",
       "      <td>M. Warszawa</td>\n",
       "    </tr>\n",
       "  </tbody>\n",
       "</table>\n",
       "</div>"
      ],
      "text/plain": [
       "0  KOD_POCZTOWY                                         ADRES  MIEJSCOWOŚĆ  \\\n",
       "0  KOD POCZTOWY                                         ADRES  MIEJSCOWOŚĆ   \n",
       "1        00-001  Poczta Warszawa 001, ul. Świętokrzyska 31/33     Warszawa   \n",
       "2        00-001                       ul. Świętokrzyska 31/33     Warszawa   \n",
       "\n",
       "0  WOJEWÓDZTWO       POWIAT  \n",
       "0  WOJEWÓDZTWO       POWIAT  \n",
       "1  mazowieckie  M. Warszawa  \n",
       "2  mazowieckie  M. Warszawa  "
      ]
     },
     "execution_count": 105,
     "metadata": {},
     "output_type": "execute_result"
    }
   ],
   "source": [
    "postcode_df[0].head(3)"
   ]
  },
  {
   "cell_type": "code",
   "execution_count": 106,
   "metadata": {},
   "outputs": [],
   "source": [
    "for i in range(len(postcode_df)):\n",
    "    postcode_df[i].drop([0], inplace=True)"
   ]
  },
  {
   "cell_type": "code",
   "execution_count": 109,
   "metadata": {},
   "outputs": [
    {
     "data": {
      "text/html": [
       "<div>\n",
       "<style scoped>\n",
       "    .dataframe tbody tr th:only-of-type {\n",
       "        vertical-align: middle;\n",
       "    }\n",
       "\n",
       "    .dataframe tbody tr th {\n",
       "        vertical-align: top;\n",
       "    }\n",
       "\n",
       "    .dataframe thead th {\n",
       "        text-align: right;\n",
       "    }\n",
       "</style>\n",
       "<table border=\"1\" class=\"dataframe\">\n",
       "  <thead>\n",
       "    <tr style=\"text-align: right;\">\n",
       "      <th></th>\n",
       "      <th>KOD_POCZTOWY</th>\n",
       "      <th>ADRES</th>\n",
       "      <th>MIEJSCOWOŚĆ</th>\n",
       "      <th>WOJEWÓDZTWO</th>\n",
       "      <th>POWIAT</th>\n",
       "    </tr>\n",
       "  </thead>\n",
       "  <tbody>\n",
       "    <tr>\n",
       "      <th>1</th>\n",
       "      <td>60-001</td>\n",
       "      <td>ul. Ceglana</td>\n",
       "      <td>Poznań</td>\n",
       "      <td>wielkopolskie</td>\n",
       "      <td>M. Poznań</td>\n",
       "    </tr>\n",
       "    <tr>\n",
       "      <th>2</th>\n",
       "      <td>60-001</td>\n",
       "      <td>ul. Ceramiczna</td>\n",
       "      <td>Poznań</td>\n",
       "      <td>wielkopolskie</td>\n",
       "      <td>M. Poznań</td>\n",
       "    </tr>\n",
       "    <tr>\n",
       "      <th>3</th>\n",
       "      <td>60-001</td>\n",
       "      <td>ul. Gliniana</td>\n",
       "      <td>Poznań</td>\n",
       "      <td>wielkopolskie</td>\n",
       "      <td>M. Poznań</td>\n",
       "    </tr>\n",
       "  </tbody>\n",
       "</table>\n",
       "</div>"
      ],
      "text/plain": [
       "0 KOD_POCZTOWY           ADRES MIEJSCOWOŚĆ    WOJEWÓDZTWO     POWIAT\n",
       "1       60-001     ul. Ceglana      Poznań  wielkopolskie  M. Poznań\n",
       "2       60-001  ul. Ceramiczna      Poznań  wielkopolskie  M. Poznań\n",
       "3       60-001    ul. Gliniana      Poznań  wielkopolskie  M. Poznań"
      ]
     },
     "execution_count": 109,
     "metadata": {},
     "output_type": "execute_result"
    }
   ],
   "source": [
    "postcode_df[6].head(3)"
   ]
  },
  {
   "cell_type": "code",
   "execution_count": 110,
   "metadata": {},
   "outputs": [],
   "source": [
    "concate_df = pd.concat(postcode_df, ignore_index=True)"
   ]
  },
  {
   "cell_type": "code",
   "execution_count": 117,
   "metadata": {},
   "outputs": [],
   "source": [
    "voivodeships = list(concate_df[\"WOJEWÓDZTWO\"].sort_values().unique())"
   ]
  },
  {
   "cell_type": "code",
   "execution_count": 121,
   "metadata": {},
   "outputs": [],
   "source": [
    "postcode_dict = {v:list(concate_df[concate_df[\"WOJEWÓDZTWO\"]==v].KOD_POCZTOWY)\n",
    "                for v in voivodeships}"
   ]
  },
  {
   "cell_type": "code",
   "execution_count": 125,
   "metadata": {},
   "outputs": [],
   "source": [
    "import json"
   ]
  },
  {
   "cell_type": "code",
   "execution_count": 133,
   "metadata": {},
   "outputs": [],
   "source": [
    "with open(\"post_codes.json\", 'w+', encoding=\"UTF-8\") as fp:\n",
    "    json.dump(postcode_dict, fp, ensure_ascii=False)"
   ]
  },
  {
   "cell_type": "code",
   "execution_count": null,
   "metadata": {},
   "outputs": [],
   "source": []
  }
 ],
 "metadata": {
  "interpreter": {
   "hash": "04c26ea521bc9ff243e398505869bbad83da07455f0240e198b5c7532d7e8c7c"
  },
  "kernelspec": {
   "display_name": "Python 3.9.7 64-bit",
   "language": "python",
   "name": "python3"
  },
  "language_info": {
   "codemirror_mode": {
    "name": "ipython",
    "version": 3
   },
   "file_extension": ".py",
   "mimetype": "text/x-python",
   "name": "python",
   "nbconvert_exporter": "python",
   "pygments_lexer": "ipython3",
   "version": "3.9.7"
  },
  "orig_nbformat": 4
 },
 "nbformat": 4,
 "nbformat_minor": 2
}
